{
 "cells": [
  {
   "cell_type": "markdown",
   "metadata": {
    "ein.tags": "worksheet-0",
    "slideshow": {
     "slide_type": "-"
    }
   },
   "source": [
    "## Implementing K-Nearest Neighbors\n",
    "\n",
    "K-Neareset Neighbors is a simple algorithm you can read about [on Wikiepedia](https://en.wikipedia.org/wiki/K-nearest_neighbors_algorithm). \n",
    "\n",
    "Let's implement two things in Python, to solidify different ways of doing things: \n",
    "\n",
    "1. The K-Nearest Nieghbors algorithm, as a class.\n",
    "2. The K-Nearest Neighbors algorith, as a pure function.\n",
    "\n",
    "This will be simple enough that the usefulness of the difference won't be profound, but I would like you to focus on the difference in implementation itself. "
   ]
  },
  {
   "cell_type": "code",
   "execution_count": 19,
   "metadata": {
    "autoscroll": false,
    "ein.hycell": false,
    "ein.tags": "worksheet-0",
    "slideshow": {
     "slide_type": "-"
    }
   },
   "outputs": [],
   "source": [
    "# Defining a function for calculating the euclidean distance which takes two lists of same length as an input\n",
    "\n",
    "def euclidean(a,b):\n",
    "    # a and b must be list of the same length\n",
    "    if len(a) != len(b):\n",
    "        print(\"Lists are not of same length\")\n",
    "        return\n",
    "    \n",
    "    # Define empty list\n",
    "    diffs = []\n",
    "    \n",
    "    # Getting pairwise differnce of list elements (squared)\n",
    "    for i in range(0,len(a)):\n",
    "        d = (a[i]- b[i])**2\n",
    "        diffs.append(d)\n",
    "    \n",
    "    # Euclidean distance is the squareroot of the sum of the pairwise differences.\n",
    "    euclidean_dist = (sum(diffs))**0.5\n",
    "    \n",
    "    return(euclidean_dist)\n",
    "\n",
    "\n",
    "# Creating the class KNearestNeighbors\n",
    "class KNearestNeighbors():\n",
    "\n",
    "    def __init__(self,k):\n",
    "        self.k = k\n",
    "        self.is_fitted = False\n",
    "    \n",
    "    def fit(self,X ,y):\n",
    "        # Building the associative list of features and data\n",
    "        data = []\n",
    "        for i in range(0,len(X)):\n",
    "            data.append([y[i],X[i]])\n",
    "        self.data = data\n",
    "        self.is_fitted = True\n",
    "        \n",
    "    def predict(self,toPredict):\n",
    "        # Empty list which will be filled with distance, class\n",
    "        not_sorted = []\n",
    "        # Calculating pairwise distances.\n",
    "        for i in range(0,len(self.data)):\n",
    "            dist = euclidean(self.data[i][1],toPredict)\n",
    "            not_sorted.append([dist,self.data[i][0]])\n",
    "        \n",
    "        # Sorting the list according to distance\n",
    "        sorted_dist = sorted(not_sorted)\n",
    "        \n",
    "        # Extracting the k-nearest ones\n",
    "        k_nearest = []\n",
    "        for i in range(0,self.k):\n",
    "            k_nearest.append(sorted_dist[i][1])\n",
    "        \n",
    "        # The prediction is the average of the classes that are the nearest\n",
    "        prediction = sum(k_nearest)/len(k_nearest)\n",
    "        \n",
    "        return(prediction)"
   ]
  },
  {
   "cell_type": "code",
   "execution_count": 20,
   "metadata": {
    "autoscroll": false,
    "ein.hycell": false,
    "ein.tags": "worksheet-0",
    "slideshow": {
     "slide_type": "-"
    }
   },
   "outputs": [],
   "source": [
    "X = [[1,1,1], [0,0,0], [5,5,5]]\n",
    "y = [1,0,1]"
   ]
  },
  {
   "cell_type": "code",
   "execution_count": 14,
   "metadata": {
    "autoscroll": false,
    "ein.hycell": false,
    "ein.tags": "worksheet-0",
    "slideshow": {
     "slide_type": "-"
    }
   },
   "outputs": [],
   "source": [
    "# Let's test our KNearestNeighbors class: \n",
    "\n",
    "model = KNearestNeighbors(2)\n",
    "model.fit(X,y)\n",
    "\n",
    "assert(model.predict([0,0,0]) == 0.5)\n",
    "assert(model.predict([3,3,3]) == 1.0)"
   ]
  },
  {
   "cell_type": "code",
   "execution_count": 17,
   "metadata": {
    "autoscroll": false,
    "ein.hycell": false,
    "ein.tags": "worksheet-0",
    "slideshow": {
     "slide_type": "-"
    }
   },
   "outputs": [],
   "source": [
    "def knn(K, X, y, new_y):\n",
    "    \n",
    "    # Arranging the data\n",
    "    data = []\n",
    "    for i in range(0,len(X)):\n",
    "        data.append([y[i],X[i]])\n",
    "            \n",
    "    # Empty list which will be filled with distance, class\n",
    "    not_sorted = []\n",
    "    # Calculating pairwise distances.\n",
    "    for i in range(0,len(data)):\n",
    "        dist = euclidean(data[i][1],new_y)\n",
    "        not_sorted.append([dist,data[i][0]])\n",
    "    \n",
    "    # Sorting the list according to distance\n",
    "    sorted_dist = sorted(not_sorted)\n",
    "        \n",
    "    # Extracting the k-nearest ones\n",
    "    k_nearest = []\n",
    "    for i in range(0,K):\n",
    "        k_nearest.append(sorted_dist[i][1])\n",
    "        \n",
    "    # The prediction is the average of the classes that are the nearest\n",
    "    prediction = sum(k_nearest)/len(k_nearest)\n",
    "        \n",
    "    return(prediction)\n"
   ]
  },
  {
   "cell_type": "code",
   "execution_count": 18,
   "metadata": {
    "autoscroll": false,
    "ein.hycell": false,
    "ein.tags": "worksheet-0",
    "slideshow": {
     "slide_type": "-"
    }
   },
   "outputs": [],
   "source": [
    "# Let's test our KNearestNeighbors functions:\n",
    "\n",
    "assert(knn(2, X, y, [0,0,0]) == 0.5)\n",
    "assert(knn(2, X, y, [3,3,3]) == 1.0)"
   ]
  },
  {
   "cell_type": "code",
   "execution_count": null,
   "metadata": {},
   "outputs": [],
   "source": []
  }
 ],
 "metadata": {
  "kernelspec": {
   "display_name": "Python 3",
   "language": "python",
   "name": "python3"
  },
  "language_info": {
   "codemirror_mode": {
    "name": "ipython",
    "version": 3
   },
   "file_extension": ".py",
   "mimetype": "text/x-python",
   "name": "python",
   "nbconvert_exporter": "python",
   "pygments_lexer": "ipython3",
   "version": "3.6.3"
  },
  "name": "Untitled.ipynb"
 },
 "nbformat": 4,
 "nbformat_minor": 2
}
